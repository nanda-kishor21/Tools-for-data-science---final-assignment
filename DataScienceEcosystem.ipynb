{
 "cells": [
  {
   "cell_type": "markdown",
   "id": "954639e1-11c2-4fa2-8c55-4d7041a373a3",
   "metadata": {},
   "source": [
    "# Data Science Tools and Ecosystem"
   ]
  },
  {
   "cell_type": "markdown",
   "id": "78ab3494-2768-417b-9bfa-b086551c3c36",
   "metadata": {},
   "source": [
    "In this notebook, Data Science Tools and Ecosystem are summarized."
   ]
  },
  {
   "cell_type": "markdown",
   "id": "1433aec0-2d4b-4b75-aefb-e2f7e463de73",
   "metadata": {},
   "source": [
    "Some of the popular languages that Data Scientists use are:\n",
    "- Python\n",
    "- Julia\n",
    "- R"
   ]
  },
  {
   "cell_type": "markdown",
   "id": "5759a8c0-0c6d-4862-a73d-02e388de1b43",
   "metadata": {},
   "source": [
    "Some of the commonly used libraries used by Data Scientists include:\n",
    "* Pandas\n",
    "* Numpy\n",
    "* Plotly\n",
    "* ggplot2\n",
    "* Scikit-learn\n",
    "* matplotlib\n",
    "* keras"
   ]
  },
  {
   "cell_type": "markdown",
   "id": "8a19ca58-a067-43be-8bbf-ee2506d9d8da",
   "metadata": {},
   "source": [
    "|Data Science Tools|\n",
    "|--------------------|\n",
    "|Jupyer Notebook| \n",
    "|Jupyter lab|\n",
    "|Rstudio|\n",
    "|VS Code|"
   ]
  },
  {
   "cell_type": "markdown",
   "id": "65a311f3-de02-476c-a2cb-88101fb7e87c",
   "metadata": {},
   "source": [
    "### Below are a few examples of evaluating arithmetic expressions in Python"
   ]
  },
  {
   "cell_type": "code",
   "execution_count": 2,
   "id": "5e94e752-b41d-4a06-a42d-732b40e6f644",
   "metadata": {},
   "outputs": [
    {
     "data": {
      "text/plain": [
       "17"
      ]
     },
     "execution_count": 2,
     "metadata": {},
     "output_type": "execute_result"
    }
   ],
   "source": [
    "# This a simple arithmetic expression to mutiply then add integers\n",
    "(3 * 4) + 5"
   ]
  },
  {
   "cell_type": "code",
   "execution_count": null,
   "id": "5663df57-1272-439f-b162-d876253176d2",
   "metadata": {},
   "outputs": [],
   "source": []
  },
  {
   "cell_type": "code",
   "execution_count": 9,
   "id": "3eb7f8d7-4ab3-4cb5-bf9f-8bf520ca197b",
   "metadata": {},
   "outputs": [
    {
     "name": "stdout",
     "output_type": "stream",
     "text": [
      "200 minutes in hours is: 3.3 hours\n"
     ]
    }
   ],
   "source": [
    "# This will convert 200 minutes to hours by diving by 60\n",
    "minutes = 200\n",
    "hours = minutes / 60\n",
    "print(f\"{minutes} minutes in hours is: {hours:.1f} hours\")"
   ]
  },
  {
   "cell_type": "code",
   "execution_count": null,
   "id": "805e5bd0-db0c-4f5e-b46a-24f11aca217f",
   "metadata": {},
   "outputs": [],
   "source": []
  },
  {
   "cell_type": "markdown",
   "id": "287cecef-f8d2-49ff-8e1d-f7b7e6015857",
   "metadata": {},
   "source": [
    "**Objectives:**\n",
    "- List popular languages used in Data Science  \n",
    "- Identify commonly used Data Science libraries  \n",
    "- Create tables using Markdown  \n",
    "- Demonstrate simple arithmetic operations in Python  \n",
    "- Convert values using Python expressions  "
   ]
  },
  {
   "cell_type": "code",
   "execution_count": null,
   "id": "7206955b-73a3-45cf-8a93-29b06983b0dc",
   "metadata": {},
   "outputs": [],
   "source": []
  },
  {
   "cell_type": "markdown",
   "id": "f59595f7-e1a4-4ba5-a312-cc20a7d12f69",
   "metadata": {},
   "source": [
    "## Author: \n",
    " *Nanda Kishor Suresh Priya*"
   ]
  },
  {
   "cell_type": "code",
   "execution_count": null,
   "id": "9b300005-2397-4d2e-89ce-6c3827fa2ff9",
   "metadata": {},
   "outputs": [],
   "source": []
  }
 ],
 "metadata": {
  "kernelspec": {
   "display_name": "Python [conda env:base] *",
   "language": "python",
   "name": "conda-base-py"
  },
  "language_info": {
   "codemirror_mode": {
    "name": "ipython",
    "version": 3
   },
   "file_extension": ".py",
   "mimetype": "text/x-python",
   "name": "python",
   "nbconvert_exporter": "python",
   "pygments_lexer": "ipython3",
   "version": "3.13.5"
  }
 },
 "nbformat": 4,
 "nbformat_minor": 5
}
